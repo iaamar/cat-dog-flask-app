{
  "nbformat": 4,
  "nbformat_minor": 0,
  "metadata": {
    "kernelspec": {
      "display_name": "Python 3",
      "language": "python",
      "name": "python3"
    },
    "language_info": {
      "codemirror_mode": {
        "name": "ipython",
        "version": 3
      },
      "file_extension": ".py",
      "mimetype": "text/x-python",
      "name": "python",
      "nbconvert_exporter": "python",
      "pygments_lexer": "ipython3",
      "version": "3.6.9-final"
    },
    "toc": {
      "base_numbering": 1,
      "nav_menu": {},
      "number_sections": true,
      "sideBar": true,
      "skip_h1_title": false,
      "title_cell": "Table of Contents",
      "title_sidebar": "Contents",
      "toc_cell": false,
      "toc_position": {},
      "toc_section_display": true,
      "toc_window_display": false
    },
    "colab": {
      "name": "model.ipynb",
      "provenance": []
    }
  },
  "cells": [
    {
      "cell_type": "code",
      "metadata": {
        "id": "YDTjjYE06CLa",
        "colab_type": "code",
        "colab": {},
        "tags": []
      },
      "source": [
        "import numpy as np\n",
        "import pandas as pd\n",
        "from keras.preprocessing.image import ImageDataGenerator,load_img\n",
        "from keras.utils import to_categorical\n",
        "from sklearn.model_selection import train_test_split\n",
        "import matplotlib.pyplot as plt\n",
        "import random\n",
        "import os\n",
        "from keras.models import Sequential\n",
        "from keras.layers import Conv2D,MaxPooling2D,Dropout,Flatten,Dense,Activation,BatchNormalization"
      ],
      "execution_count": 2,
      "outputs": [
        {
          "output_type": "stream",
          "name": "stdout",
          "text": "The history saving thread hit an unexpected error (OperationalError('attempt to write a readonly database',)).History will not be written to the database.\n"
        }
      ]
    },
    {
      "cell_type": "code",
      "metadata": {
        "id": "nKPv94tQ6YBF",
        "colab_type": "code",
        "colab": {}
      },
      "source": [
        "Image_Width=128\n",
        "Image_Height=128\n",
        "Image_Size=(Image_Width,Image_Height)\n",
        "Image_Channels=3"
      ],
      "execution_count": 3,
      "outputs": []
    },
    {
      "cell_type": "code",
      "metadata": {
        "id": "tU6UkDmj6cO6",
        "colab_type": "code",
        "colab": {}
      },
      "source": [
        "filenames=os.listdir(\"./uploads/data/train\")\n",
        "categories=[]\n",
        "for f_name in filenames:\n",
        "    category=f_name.split('.')[0]\n",
        "    if category=='dog':\n",
        "        categories.append(1)\n",
        "    else:\n",
        "        categories.append(0)\n",
        "df=pd.DataFrame({\n",
        "    'filename':filenames,\n",
        "    'category':categories\n",
        "})"
      ],
      "execution_count": 4,
      "outputs": []
    },
    {
      "cell_type": "code",
      "metadata": {
        "id": "6afxaptk7z2R",
        "colab_type": "code",
        "colab": {}
      },
      "source": [
        "model=Sequential()\n",
        "model.add(Conv2D(32,(3,3),activation='relu',input_shape=(Image_Width,Image_Height,Image_Channels)))\n",
        "model.add(BatchNormalization())\n",
        "model.add(MaxPooling2D(pool_size=(2,2)))\n",
        "model.add(Dropout(0.25))\n",
        "model.add(Conv2D(64,(3,3),activation='relu'))\n",
        "model.add(BatchNormalization())\n",
        "model.add(MaxPooling2D(pool_size=(2,2)))\n",
        "model.add(Dropout(0.25))\n",
        "model.add(Conv2D(128,(3,3),activation='relu'))\n",
        "model.add(BatchNormalization())\n",
        "model.add(MaxPooling2D(pool_size=(2,2)))\n",
        "model.add(Dropout(0.25))\n",
        "model.add(Flatten())\n",
        "model.add(Dense(512,activation='relu'))\n",
        "model.add(BatchNormalization())\n",
        "model.add(Dropout(0.5))\n",
        "model.add(Dense(2,activation='softmax'))\n",
        "model.compile(loss='categorical_crossentropy',optimizer='rmsprop',metrics=['accuracy'])"
      ],
      "execution_count": 5,
      "outputs": []
    },
    {
      "cell_type": "code",
      "metadata": {
        "id": "ZLF1YNKI8tZa",
        "colab_type": "code",
        "colab": {
          "base_uri": "https://localhost:8080/",
          "height": 731
        },
        "outputId": "b44c7807-1a72-4be7-9aef-27fa4a7c06ba",
        "tags": []
      },
      "source": [
        "model.summary()"
      ],
      "execution_count": 6,
      "outputs": [
        {
          "output_type": "stream",
          "name": "stdout",
          "text": "Model: \"sequential\"\n_________________________________________________________________\nLayer (type)                 Output Shape              Param #   \n=================================================================\nconv2d (Conv2D)              (None, 126, 126, 32)      896       \n_________________________________________________________________\nbatch_normalization (BatchNo (None, 126, 126, 32)      128       \n_________________________________________________________________\nmax_pooling2d (MaxPooling2D) (None, 63, 63, 32)        0         \n_________________________________________________________________\ndropout (Dropout)            (None, 63, 63, 32)        0         \n_________________________________________________________________\nconv2d_1 (Conv2D)            (None, 61, 61, 64)        18496     \n_________________________________________________________________\nbatch_normalization_1 (Batch (None, 61, 61, 64)        256       \n_________________________________________________________________\nmax_pooling2d_1 (MaxPooling2 (None, 30, 30, 64)        0         \n_________________________________________________________________\ndropout_1 (Dropout)          (None, 30, 30, 64)        0         \n_________________________________________________________________\nconv2d_2 (Conv2D)            (None, 28, 28, 128)       73856     \n_________________________________________________________________\nbatch_normalization_2 (Batch (None, 28, 28, 128)       512       \n_________________________________________________________________\nmax_pooling2d_2 (MaxPooling2 (None, 14, 14, 128)       0         \n_________________________________________________________________\ndropout_2 (Dropout)          (None, 14, 14, 128)       0         \n_________________________________________________________________\nflatten (Flatten)            (None, 25088)             0         \n_________________________________________________________________\ndense (Dense)                (None, 512)               12845568  \n_________________________________________________________________\nbatch_normalization_3 (Batch (None, 512)               2048      \n_________________________________________________________________\ndropout_3 (Dropout)          (None, 512)               0         \n_________________________________________________________________\ndense_1 (Dense)              (None, 2)                 1026      \n=================================================================\nTotal params: 12,942,786\nTrainable params: 12,941,314\nNon-trainable params: 1,472\n_________________________________________________________________\n"
        }
      ]
    },
    {
      "cell_type": "code",
      "metadata": {
        "id": "5x6KDJv58tU4",
        "colab_type": "code",
        "colab": {}
      },
      "source": [
        "from keras.callbacks import EarlyStopping, ReduceLROnPlateau\n",
        "earlystop = EarlyStopping(patience = 10)\n",
        "learning_rate_reduction = ReduceLROnPlateau(monitor = 'val_acc',patience = 2,verbose = 1,factor = 0.5,min_lr = 0.00001)\n",
        "callbacks = [earlystop,learning_rate_reduction]"
      ],
      "execution_count": 7,
      "outputs": []
    },
    {
      "cell_type": "code",
      "metadata": {
        "id": "MybDqVJ2827F",
        "colab_type": "code",
        "colab": {}
      },
      "source": [
        "df[\"category\"] = df[\"category\"].replace({0:'cat',1:'dog'})\n",
        "train_df,validate_df = train_test_split(df,test_size=0.20,\n",
        "  random_state=42)\n",
        "train_df = train_df.reset_index(drop=True)\n",
        "validate_df = validate_df.reset_index(drop=True)\n",
        "total_train=train_df.shape[0]\n",
        "total_validate=validate_df.shape[0]\n",
        "batch_size=15"
      ],
      "execution_count": 8,
      "outputs": []
    },
    {
      "cell_type": "code",
      "metadata": {
        "id": "rqI9ixL287gd",
        "colab_type": "code",
        "colab": {
          "base_uri": "https://localhost:8080/",
          "height": 122
        },
        "outputId": "54ea2c9c-d444-4903-e0b9-87e0e834dd4f",
        "tags": []
      },
      "source": [
        "train_datagen = ImageDataGenerator(rotation_range=15,\n",
        "                                rescale=1./255,\n",
        "                                shear_range=0.1,\n",
        "                                zoom_range=0.2,\n",
        "                                horizontal_flip=True,\n",
        "                                width_shift_range=0.1,\n",
        "                                height_shift_range=0.1\n",
        "                                )\n",
        "train_generator = train_datagen.flow_from_dataframe(train_df,\n",
        "                                                 \"./uploads/data/train/\",x_col='filename',y_col='category',\n",
        "                                                 target_size=Image_Size,\n",
        "                                                 class_mode='categorical',\n",
        "                                                 batch_size=batch_size)\n",
        "validation_datagen = ImageDataGenerator(rescale=1./255)\n",
        "validation_generator = validation_datagen.flow_from_dataframe(\n",
        "    validate_df, \n",
        "    \"./uploads/data/train/\", \n",
        "    x_col='filename',\n",
        "    y_col='category',\n",
        "    target_size=Image_Size,\n",
        "    class_mode='categorical',\n",
        "    batch_size=batch_size\n",
        ")\n",
        "test_datagen = ImageDataGenerator(rotation_range=15,\n",
        "                                rescale=1./255,\n",
        "                                shear_range=0.1,\n",
        "                                zoom_range=0.2,\n",
        "                                horizontal_flip=True,\n",
        "                                width_shift_range=0.1,\n",
        "                                height_shift_range=0.1)\n",
        "test_generator = train_datagen.flow_from_dataframe(train_df,\n",
        "                                                 \"./uploads/data/train/\",x_col='filename',y_col='category',\n",
        "                                                 target_size=Image_Size,\n",
        "                                                 class_mode='categorical',batch_size=batch_size)\n"
      ],
      "execution_count": 9,
      "outputs": [
        {
          "output_type": "stream",
          "name": "stdout",
          "text": "Found 800 validated image filenames belonging to 1 classes.\nFound 201 validated image filenames belonging to 1 classes.\nFound 800 validated image filenames belonging to 1 classes.\n"
        }
      ]
    },
    {
      "cell_type": "code",
      "metadata": {
        "id": "zSE3LY8Z87bY",
        "colab_type": "code",
        "colab": {},
        "tags": []
      },
      "source": [
        "epochs=10\n",
        "history = model.fit_generator(\n",
        "    train_generator, \n",
        "    epochs=epochs,\n",
        "    validation_data=validation_generator,\n",
        "    validation_steps=total_validate//batch_size,\n",
        "    steps_per_epoch=total_train//batch_size,\n",
        "    callbacks=callbacks)"
      ],
      "execution_count": 10,
      "outputs": [
        {
          "output_type": "stream",
          "name": "stdout",
          "text": "WARNING:tensorflow:From <ipython-input-10-3c26f8912b3c>:8: Model.fit_generator (from tensorflow.python.keras.engine.training) is deprecated and will be removed in a future version.\nInstructions for updating:\nPlease use Model.fit, which supports generators.\nEpoch 1/10\n53/53 [==============================] - ETA: 0s - loss: 2.8249 - accuracy: 0.5032WARNING:tensorflow:Reduce LR on plateau conditioned on metric `val_acc` which is not available. Available metrics are: loss,accuracy,val_loss,val_accuracy,lr\n53/53 [==============================] - 59s 1s/step - loss: 2.8249 - accuracy: 0.5032 - val_loss: 6.5276 - val_accuracy: 1.0000 - lr: 0.0010\nEpoch 2/10\n53/53 [==============================] - ETA: 0s - loss: 2.1062 - accuracy: 0.4662WARNING:tensorflow:Reduce LR on plateau conditioned on metric `val_acc` which is not available. Available metrics are: loss,accuracy,val_loss,val_accuracy,lr\n53/53 [==============================] - 66s 1s/step - loss: 2.1062 - accuracy: 0.4662 - val_loss: 3.0929 - val_accuracy: 1.0000 - lr: 0.0010\nEpoch 3/10\n53/53 [==============================] - ETA: 0s - loss: 1.9664 - accuracy: 0.5083WARNING:tensorflow:Reduce LR on plateau conditioned on metric `val_acc` which is not available. Available metrics are: loss,accuracy,val_loss,val_accuracy,lr\n53/53 [==============================] - 69s 1s/step - loss: 1.9664 - accuracy: 0.5083 - val_loss: 1.5327 - val_accuracy: 0.2308 - lr: 0.0010\nEpoch 4/10\n53/53 [==============================] - ETA: 0s - loss: 1.7963 - accuracy: 0.5172WARNING:tensorflow:Reduce LR on plateau conditioned on metric `val_acc` which is not available. Available metrics are: loss,accuracy,val_loss,val_accuracy,lr\n53/53 [==============================] - 74s 1s/step - loss: 1.7963 - accuracy: 0.5172 - val_loss: 1.5779 - val_accuracy: 0.8974 - lr: 0.0010\nEpoch 5/10\n53/53 [==============================] - ETA: 0s - loss: 1.8018 - accuracy: 0.5057WARNING:tensorflow:Reduce LR on plateau conditioned on metric `val_acc` which is not available. Available metrics are: loss,accuracy,val_loss,val_accuracy,lr\n53/53 [==============================] - 55s 1s/step - loss: 1.8018 - accuracy: 0.5057 - val_loss: 1.4564 - val_accuracy: 0.6205 - lr: 0.0010\nEpoch 6/10\n53/53 [==============================] - ETA: 0s - loss: 1.7173 - accuracy: 0.5108WARNING:tensorflow:Reduce LR on plateau conditioned on metric `val_acc` which is not available. Available metrics are: loss,accuracy,val_loss,val_accuracy,lr\n53/53 [==============================] - 59s 1s/step - loss: 1.7173 - accuracy: 0.5108 - val_loss: 1.4904 - val_accuracy: 0.0769 - lr: 0.0010\nEpoch 7/10\n53/53 [==============================] - ETA: 0s - loss: 1.7001 - accuracy: 0.4955WARNING:tensorflow:Reduce LR on plateau conditioned on metric `val_acc` which is not available. Available metrics are: loss,accuracy,val_loss,val_accuracy,lr\n53/53 [==============================] - 59s 1s/step - loss: 1.7001 - accuracy: 0.4955 - val_loss: 1.5477 - val_accuracy: 0.3026 - lr: 0.0010\nEpoch 8/10\n53/53 [==============================] - ETA: 0s - loss: 1.6691 - accuracy: 0.5248WARNING:tensorflow:Reduce LR on plateau conditioned on metric `val_acc` which is not available. Available metrics are: loss,accuracy,val_loss,val_accuracy,lr\n53/53 [==============================] - 57s 1s/step - loss: 1.6691 - accuracy: 0.5248 - val_loss: 1.4783 - val_accuracy: 0.4051 - lr: 0.0010\nEpoch 9/10\n53/53 [==============================] - ETA: 0s - loss: 1.6689 - accuracy: 0.4981WARNING:tensorflow:Reduce LR on plateau conditioned on metric `val_acc` which is not available. Available metrics are: loss,accuracy,val_loss,val_accuracy,lr\n53/53 [==============================] - 64s 1s/step - loss: 1.6689 - accuracy: 0.4981 - val_loss: 1.4586 - val_accuracy: 0.2308 - lr: 0.0010\nEpoch 10/10\n53/53 [==============================] - ETA: 0s - loss: 1.6907 - accuracy: 0.5019WARNING:tensorflow:Reduce LR on plateau conditioned on metric `val_acc` which is not available. Available metrics are: loss,accuracy,val_loss,val_accuracy,lr\n53/53 [==============================] - 57s 1s/step - loss: 1.6907 - accuracy: 0.5019 - val_loss: 1.4491 - val_accuracy: 0.5128 - lr: 0.0010\n"
        }
      ]
    },
    {
      "cell_type": "code",
      "metadata": {
        "id": "jSWJnX9P9MdV",
        "colab_type": "code",
        "colab": {}
      },
      "source": [
        "model.save(\"./static/models/model.h5\")"
      ],
      "execution_count": 12,
      "outputs": []
    }
  ]
}